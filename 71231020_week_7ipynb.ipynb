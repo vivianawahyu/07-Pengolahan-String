{
  "nbformat": 4,
  "nbformat_minor": 0,
  "metadata": {
    "colab": {
      "provenance": []
    },
    "kernelspec": {
      "name": "python3",
      "display_name": "Python 3"
    },
    "language_info": {
      "name": "python"
    }
  },
  "cells": [
    {
      "cell_type": "markdown",
      "source": [
        "soal 1"
      ],
      "metadata": {
        "id": "lw2Ag5aBlt6U"
      }
    },
    {
      "cell_type": "code",
      "source": [
        "def kata_anagram():\n",
        "    kata_pertama = input(\"masukkan kata1 : \")\n",
        "    kata_kedua = input(\"masukkan kata2: \")\n",
        "    kata_1 = kata_pertama.lower()\n",
        "    kata_2 = kata_kedua.lower()\n",
        "\n",
        "    kata_1_s = sorted(kata_pertama)\n",
        "    kata_2_s= sorted(kata_kedua)\n",
        "\n",
        "    if kata_1_s == kata_2_s:\n",
        "        print(\"keduanya anagram\")\n",
        "    else:\n",
        "        print(\"kedua kata salah\")\n",
        "kata_anagram()"
      ],
      "metadata": {
        "colab": {
          "base_uri": "https://localhost:8080/"
        },
        "id": "NwGsb6qflwMH",
        "outputId": "48b9cd17-1c48-4e0f-9d63-5a61aefc987a"
      },
      "execution_count": 1,
      "outputs": [
        {
          "output_type": "stream",
          "name": "stdout",
          "text": [
            "masukkan kata1 : aku\n",
            "masukkan kata2: kua\n",
            "keduanya anagram\n"
          ]
        }
      ]
    },
    {
      "cell_type": "markdown",
      "source": [
        "soal 2"
      ],
      "metadata": {
        "id": "RUIQ2CbDoBqu"
      }
    },
    {
      "cell_type": "code",
      "source": [],
      "metadata": {
        "id": "zrpTXpNeoCoW"
      },
      "execution_count": null,
      "outputs": []
    },
    {
      "cell_type": "markdown",
      "source": [
        "soal 3"
      ],
      "metadata": {
        "id": "3BcF4VhEoDaf"
      }
    },
    {
      "cell_type": "code",
      "source": [
        "def menghapus_spasi():\n",
        "    kata_kedua = kata.split()\n",
        "    kalimat_biasa = \" \".join(kata_kedua)\n",
        "    return kalimat_biasa\n",
        "\n",
        "kata = input(\"masukkan kalimat: \")\n",
        "kalimat_biasa = menghapus_spasi()\n",
        "print(f\"Output : {kalimat_biasa}\")\n"
      ],
      "metadata": {
        "colab": {
          "base_uri": "https://localhost:8080/"
        },
        "id": "CKEtVW7CoGHC",
        "outputId": "65b74e8b-3b90-4266-d5a4-1ff34ac9c4f0"
      },
      "execution_count": 2,
      "outputs": [
        {
          "output_type": "stream",
          "name": "stdout",
          "text": [
            "masukkan kalimat: viviana makan mie ayam\n",
            "Output : viviana makan mie ayam\n"
          ]
        }
      ]
    },
    {
      "cell_type": "markdown",
      "source": [
        "soal 4"
      ],
      "metadata": {
        "id": "BY3xRHRMoJJg"
      }
    },
    {
      "cell_type": "code",
      "source": [
        "def kata_terpendek_dan_terpanjang(kalimat):\n",
        "    kata_kalimat = kalimat.split()\n",
        "    terpendek = kata_kalimat[0]\n",
        "    terpanjang = kata_kalimat[0]\n",
        "\n",
        "    for kata in kata_kalimat:\n",
        "        if len(kata) < len(terpendek):\n",
        "            terpendek = kata\n",
        "        if len(kata) > len(terpanjang):\n",
        "            terpanjang = kata\n",
        "\n",
        "    return terpendek, terpanjang\n",
        "kalimat = input(\"Masukkan kalimat: \")\n",
        "terpendek, terpanjang = kata_terpendek_dan_terpanjang(kalimat)\n",
        "print(\"Kata terpendek:\", terpendek)\n",
        "print(\"Kata terpanjang:\", terpanjang)"
      ],
      "metadata": {
        "colab": {
          "base_uri": "https://localhost:8080/"
        },
        "id": "eYdlGvsAoKIv",
        "outputId": "d0045056-db05-4a0b-8b3f-77aa18ba1fc8"
      },
      "execution_count": 3,
      "outputs": [
        {
          "output_type": "stream",
          "name": "stdout",
          "text": [
            "Masukkan kalimat: saya dan teman-teman\n",
            "Kata terpendek: dan\n",
            "Kata terpanjang: teman-teman\n"
          ]
        }
      ]
    }
  ]
}